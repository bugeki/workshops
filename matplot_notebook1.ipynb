{
  "nbformat": 4,
  "nbformat_minor": 0,
  "metadata": {
    "kernelspec": {
      "display_name": "Python 3",
      "language": "python",
      "name": "python3"
    },
    "language_info": {
      "codemirror_mode": {
        "name": "ipython",
        "version": 3
      },
      "file_extension": ".py",
      "mimetype": "text/x-python",
      "name": "python",
      "nbconvert_exporter": "python",
      "pygments_lexer": "ipython3",
      "version": "3.8.5"
    },
    "colab": {
      "name": "Assignment-1 student.ipynb adlı not defterinin kopyası",
      "provenance": [],
      "collapsed_sections": [],
      "include_colab_link": true
    }
  },
  "cells": [
    {
      "cell_type": "markdown",
      "metadata": {
        "id": "view-in-github",
        "colab_type": "text"
      },
      "source": [
        "<a href=\"https://colab.research.google.com/github/bugeki/workshops/blob/main/Assignment_1_matplot.ipynb\" target=\"_parent\"><img src=\"https://colab.research.google.com/assets/colab-badge.svg\" alt=\"Open In Colab\"/></a>"
      ]
    },
    {
      "cell_type": "markdown",
      "metadata": {
        "id": "xSwVOspA2Zin"
      },
      "source": [
        "# WITH PANDAS AND MATPLOTLIB"
      ]
    },
    {
      "cell_type": "code",
      "metadata": {
        "_cell_guid": "5fdcd462-5466-40f5-9992-dc31a9a174f2",
        "_uuid": "dab5021d92c7210270cec270470e4ae179a1de01",
        "id": "22qiZVq32Zir"
      },
      "source": [
        "import numpy as np \n",
        "import pandas as pd\n",
        "import seaborn as sns\n",
        "import matplotlib.pyplot as plt\n",
        "from collections import Counter\n",
        "import warnings\n",
        "warnings.filterwarnings('ignore') "
      ],
      "execution_count": 2,
      "outputs": []
    },
    {
      "cell_type": "markdown",
      "metadata": {
        "id": "Rsu0y4Ha2Zit"
      },
      "source": [
        "INSTRUCTIONS\n",
        "\n",
        "1. Number of people by gender\n",
        "1. Kill weapon\n",
        "1. Age of killed people\n",
        "1. Race of killed people\n",
        "1. Killed People According to Races (Pie Chart)\n",
        "1. Most common 15 Name or Surname of killed people\n",
        "\n",
        "<br>"
      ]
    },
    {
      "cell_type": "markdown",
      "metadata": {
        "id": "OTDjgwf53tr5"
      },
      "source": [
        "read data\n",
        "\n",
        "if didn't work you can use this parameters: encoding=\"windows-1252\""
      ]
    },
    {
      "cell_type": "code",
      "metadata": {
        "_cell_guid": "abb0685f-f844-43f8-84c0-4cd54361c7bf",
        "_uuid": "9c06ed7c41db79ae9d940f2d52aeff23621b3037",
        "id": "NYz5lAPp2Ziu"
      },
      "source": [
        "kill = pd.read_csv('/PoliceKillingsUS.csv', encoding=\"windows-1252\")"
      ],
      "execution_count": 6,
      "outputs": []
    },
    {
      "cell_type": "markdown",
      "metadata": {
        "id": "wMFloMjW2Zi8"
      },
      "source": [
        "## 1: Plot number of people by gender"
      ]
    },
    {
      "cell_type": "code",
      "source": [
        "kill.describe()"
      ],
      "metadata": {
        "colab": {
          "base_uri": "https://localhost:8080/",
          "height": 300
        },
        "id": "NRqUsSjTKLy3",
        "outputId": "ccbd729c-d8d2-4471-bf3f-f30709e361bb"
      },
      "execution_count": null,
      "outputs": [
        {
          "output_type": "execute_result",
          "data": {
            "text/html": [
              "\n",
              "  <div id=\"df-dd03c822-40d5-4026-b6c0-42e20030810e\">\n",
              "    <div class=\"colab-df-container\">\n",
              "      <div>\n",
              "<style scoped>\n",
              "    .dataframe tbody tr th:only-of-type {\n",
              "        vertical-align: middle;\n",
              "    }\n",
              "\n",
              "    .dataframe tbody tr th {\n",
              "        vertical-align: top;\n",
              "    }\n",
              "\n",
              "    .dataframe thead th {\n",
              "        text-align: right;\n",
              "    }\n",
              "</style>\n",
              "<table border=\"1\" class=\"dataframe\">\n",
              "  <thead>\n",
              "    <tr style=\"text-align: right;\">\n",
              "      <th></th>\n",
              "      <th>id</th>\n",
              "      <th>age</th>\n",
              "    </tr>\n",
              "  </thead>\n",
              "  <tbody>\n",
              "    <tr>\n",
              "      <th>count</th>\n",
              "      <td>2535.000000</td>\n",
              "      <td>2458.000000</td>\n",
              "    </tr>\n",
              "    <tr>\n",
              "      <th>mean</th>\n",
              "      <td>1445.731755</td>\n",
              "      <td>36.605370</td>\n",
              "    </tr>\n",
              "    <tr>\n",
              "      <th>std</th>\n",
              "      <td>794.259490</td>\n",
              "      <td>13.030774</td>\n",
              "    </tr>\n",
              "    <tr>\n",
              "      <th>min</th>\n",
              "      <td>3.000000</td>\n",
              "      <td>6.000000</td>\n",
              "    </tr>\n",
              "    <tr>\n",
              "      <th>25%</th>\n",
              "      <td>768.500000</td>\n",
              "      <td>26.000000</td>\n",
              "    </tr>\n",
              "    <tr>\n",
              "      <th>50%</th>\n",
              "      <td>1453.000000</td>\n",
              "      <td>34.000000</td>\n",
              "    </tr>\n",
              "    <tr>\n",
              "      <th>75%</th>\n",
              "      <td>2126.500000</td>\n",
              "      <td>45.000000</td>\n",
              "    </tr>\n",
              "    <tr>\n",
              "      <th>max</th>\n",
              "      <td>2822.000000</td>\n",
              "      <td>91.000000</td>\n",
              "    </tr>\n",
              "  </tbody>\n",
              "</table>\n",
              "</div>\n",
              "      <button class=\"colab-df-convert\" onclick=\"convertToInteractive('df-dd03c822-40d5-4026-b6c0-42e20030810e')\"\n",
              "              title=\"Convert this dataframe to an interactive table.\"\n",
              "              style=\"display:none;\">\n",
              "        \n",
              "  <svg xmlns=\"http://www.w3.org/2000/svg\" height=\"24px\"viewBox=\"0 0 24 24\"\n",
              "       width=\"24px\">\n",
              "    <path d=\"M0 0h24v24H0V0z\" fill=\"none\"/>\n",
              "    <path d=\"M18.56 5.44l.94 2.06.94-2.06 2.06-.94-2.06-.94-.94-2.06-.94 2.06-2.06.94zm-11 1L8.5 8.5l.94-2.06 2.06-.94-2.06-.94L8.5 2.5l-.94 2.06-2.06.94zm10 10l.94 2.06.94-2.06 2.06-.94-2.06-.94-.94-2.06-.94 2.06-2.06.94z\"/><path d=\"M17.41 7.96l-1.37-1.37c-.4-.4-.92-.59-1.43-.59-.52 0-1.04.2-1.43.59L10.3 9.45l-7.72 7.72c-.78.78-.78 2.05 0 2.83L4 21.41c.39.39.9.59 1.41.59.51 0 1.02-.2 1.41-.59l7.78-7.78 2.81-2.81c.8-.78.8-2.07 0-2.86zM5.41 20L4 18.59l7.72-7.72 1.47 1.35L5.41 20z\"/>\n",
              "  </svg>\n",
              "      </button>\n",
              "      \n",
              "  <style>\n",
              "    .colab-df-container {\n",
              "      display:flex;\n",
              "      flex-wrap:wrap;\n",
              "      gap: 12px;\n",
              "    }\n",
              "\n",
              "    .colab-df-convert {\n",
              "      background-color: #E8F0FE;\n",
              "      border: none;\n",
              "      border-radius: 50%;\n",
              "      cursor: pointer;\n",
              "      display: none;\n",
              "      fill: #1967D2;\n",
              "      height: 32px;\n",
              "      padding: 0 0 0 0;\n",
              "      width: 32px;\n",
              "    }\n",
              "\n",
              "    .colab-df-convert:hover {\n",
              "      background-color: #E2EBFA;\n",
              "      box-shadow: 0px 1px 2px rgba(60, 64, 67, 0.3), 0px 1px 3px 1px rgba(60, 64, 67, 0.15);\n",
              "      fill: #174EA6;\n",
              "    }\n",
              "\n",
              "    [theme=dark] .colab-df-convert {\n",
              "      background-color: #3B4455;\n",
              "      fill: #D2E3FC;\n",
              "    }\n",
              "\n",
              "    [theme=dark] .colab-df-convert:hover {\n",
              "      background-color: #434B5C;\n",
              "      box-shadow: 0px 1px 3px 1px rgba(0, 0, 0, 0.15);\n",
              "      filter: drop-shadow(0px 1px 2px rgba(0, 0, 0, 0.3));\n",
              "      fill: #FFFFFF;\n",
              "    }\n",
              "  </style>\n",
              "\n",
              "      <script>\n",
              "        const buttonEl =\n",
              "          document.querySelector('#df-dd03c822-40d5-4026-b6c0-42e20030810e button.colab-df-convert');\n",
              "        buttonEl.style.display =\n",
              "          google.colab.kernel.accessAllowed ? 'block' : 'none';\n",
              "\n",
              "        async function convertToInteractive(key) {\n",
              "          const element = document.querySelector('#df-dd03c822-40d5-4026-b6c0-42e20030810e');\n",
              "          const dataTable =\n",
              "            await google.colab.kernel.invokeFunction('convertToInteractive',\n",
              "                                                     [key], {});\n",
              "          if (!dataTable) return;\n",
              "\n",
              "          const docLinkHtml = 'Like what you see? Visit the ' +\n",
              "            '<a target=\"_blank\" href=https://colab.research.google.com/notebooks/data_table.ipynb>data table notebook</a>'\n",
              "            + ' to learn more about interactive tables.';\n",
              "          element.innerHTML = '';\n",
              "          dataTable['output_type'] = 'display_data';\n",
              "          await google.colab.output.renderOutput(dataTable, element);\n",
              "          const docLink = document.createElement('div');\n",
              "          docLink.innerHTML = docLinkHtml;\n",
              "          element.appendChild(docLink);\n",
              "        }\n",
              "      </script>\n",
              "    </div>\n",
              "  </div>\n",
              "  "
            ],
            "text/plain": [
              "                id          age\n",
              "count  2535.000000  2458.000000\n",
              "mean   1445.731755    36.605370\n",
              "std     794.259490    13.030774\n",
              "min       3.000000     6.000000\n",
              "25%     768.500000    26.000000\n",
              "50%    1453.000000    34.000000\n",
              "75%    2126.500000    45.000000\n",
              "max    2822.000000    91.000000"
            ]
          },
          "metadata": {},
          "execution_count": 6
        }
      ]
    },
    {
      "cell_type": "code",
      "source": [
        "kill.info()"
      ],
      "metadata": {
        "colab": {
          "base_uri": "https://localhost:8080/"
        },
        "id": "q2jfdQfmKUBI",
        "outputId": "48734c86-813a-4858-eb5c-362f729befd7"
      },
      "execution_count": null,
      "outputs": [
        {
          "output_type": "stream",
          "name": "stdout",
          "text": [
            "<class 'pandas.core.frame.DataFrame'>\n",
            "RangeIndex: 2535 entries, 0 to 2534\n",
            "Data columns (total 14 columns):\n",
            " #   Column                   Non-Null Count  Dtype  \n",
            "---  ------                   --------------  -----  \n",
            " 0   id                       2535 non-null   int64  \n",
            " 1   name                     2535 non-null   object \n",
            " 2   date                     2535 non-null   object \n",
            " 3   manner_of_death          2535 non-null   object \n",
            " 4   armed                    2526 non-null   object \n",
            " 5   age                      2458 non-null   float64\n",
            " 6   gender                   2535 non-null   object \n",
            " 7   race                     2340 non-null   object \n",
            " 8   city                     2535 non-null   object \n",
            " 9   state                    2535 non-null   object \n",
            " 10  signs_of_mental_illness  2535 non-null   bool   \n",
            " 11  threat_level             2535 non-null   object \n",
            " 12  flee                     2470 non-null   object \n",
            " 13  body_camera              2535 non-null   bool   \n",
            "dtypes: bool(2), float64(1), int64(1), object(10)\n",
            "memory usage: 242.7+ KB\n"
          ]
        }
      ]
    },
    {
      "cell_type": "code",
      "source": [
        "kill.head()"
      ],
      "metadata": {
        "colab": {
          "base_uri": "https://localhost:8080/",
          "height": 357
        },
        "id": "Qk9HzChYKnE4",
        "outputId": "bd50b6a3-d4a4-4bd2-acbf-e0424e82d30c"
      },
      "execution_count": null,
      "outputs": [
        {
          "output_type": "execute_result",
          "data": {
            "text/html": [
              "\n",
              "  <div id=\"df-7fecc3e0-6870-40ac-ac9d-fa7dee1bf11a\">\n",
              "    <div class=\"colab-df-container\">\n",
              "      <div>\n",
              "<style scoped>\n",
              "    .dataframe tbody tr th:only-of-type {\n",
              "        vertical-align: middle;\n",
              "    }\n",
              "\n",
              "    .dataframe tbody tr th {\n",
              "        vertical-align: top;\n",
              "    }\n",
              "\n",
              "    .dataframe thead th {\n",
              "        text-align: right;\n",
              "    }\n",
              "</style>\n",
              "<table border=\"1\" class=\"dataframe\">\n",
              "  <thead>\n",
              "    <tr style=\"text-align: right;\">\n",
              "      <th></th>\n",
              "      <th>id</th>\n",
              "      <th>name</th>\n",
              "      <th>date</th>\n",
              "      <th>manner_of_death</th>\n",
              "      <th>armed</th>\n",
              "      <th>age</th>\n",
              "      <th>gender</th>\n",
              "      <th>race</th>\n",
              "      <th>city</th>\n",
              "      <th>state</th>\n",
              "      <th>signs_of_mental_illness</th>\n",
              "      <th>threat_level</th>\n",
              "      <th>flee</th>\n",
              "      <th>body_camera</th>\n",
              "    </tr>\n",
              "  </thead>\n",
              "  <tbody>\n",
              "    <tr>\n",
              "      <th>0</th>\n",
              "      <td>3</td>\n",
              "      <td>Tim Elliot</td>\n",
              "      <td>02/01/15</td>\n",
              "      <td>shot</td>\n",
              "      <td>gun</td>\n",
              "      <td>53.0</td>\n",
              "      <td>M</td>\n",
              "      <td>A</td>\n",
              "      <td>Shelton</td>\n",
              "      <td>WA</td>\n",
              "      <td>True</td>\n",
              "      <td>attack</td>\n",
              "      <td>Not fleeing</td>\n",
              "      <td>False</td>\n",
              "    </tr>\n",
              "    <tr>\n",
              "      <th>1</th>\n",
              "      <td>4</td>\n",
              "      <td>Lewis Lee Lembke</td>\n",
              "      <td>02/01/15</td>\n",
              "      <td>shot</td>\n",
              "      <td>gun</td>\n",
              "      <td>47.0</td>\n",
              "      <td>M</td>\n",
              "      <td>W</td>\n",
              "      <td>Aloha</td>\n",
              "      <td>OR</td>\n",
              "      <td>False</td>\n",
              "      <td>attack</td>\n",
              "      <td>Not fleeing</td>\n",
              "      <td>False</td>\n",
              "    </tr>\n",
              "    <tr>\n",
              "      <th>2</th>\n",
              "      <td>5</td>\n",
              "      <td>John Paul Quintero</td>\n",
              "      <td>03/01/15</td>\n",
              "      <td>shot and Tasered</td>\n",
              "      <td>unarmed</td>\n",
              "      <td>23.0</td>\n",
              "      <td>M</td>\n",
              "      <td>H</td>\n",
              "      <td>Wichita</td>\n",
              "      <td>KS</td>\n",
              "      <td>False</td>\n",
              "      <td>other</td>\n",
              "      <td>Not fleeing</td>\n",
              "      <td>False</td>\n",
              "    </tr>\n",
              "    <tr>\n",
              "      <th>3</th>\n",
              "      <td>8</td>\n",
              "      <td>Matthew Hoffman</td>\n",
              "      <td>04/01/15</td>\n",
              "      <td>shot</td>\n",
              "      <td>toy weapon</td>\n",
              "      <td>32.0</td>\n",
              "      <td>M</td>\n",
              "      <td>W</td>\n",
              "      <td>San Francisco</td>\n",
              "      <td>CA</td>\n",
              "      <td>True</td>\n",
              "      <td>attack</td>\n",
              "      <td>Not fleeing</td>\n",
              "      <td>False</td>\n",
              "    </tr>\n",
              "    <tr>\n",
              "      <th>4</th>\n",
              "      <td>9</td>\n",
              "      <td>Michael Rodriguez</td>\n",
              "      <td>04/01/15</td>\n",
              "      <td>shot</td>\n",
              "      <td>nail gun</td>\n",
              "      <td>39.0</td>\n",
              "      <td>M</td>\n",
              "      <td>H</td>\n",
              "      <td>Evans</td>\n",
              "      <td>CO</td>\n",
              "      <td>False</td>\n",
              "      <td>attack</td>\n",
              "      <td>Not fleeing</td>\n",
              "      <td>False</td>\n",
              "    </tr>\n",
              "  </tbody>\n",
              "</table>\n",
              "</div>\n",
              "      <button class=\"colab-df-convert\" onclick=\"convertToInteractive('df-7fecc3e0-6870-40ac-ac9d-fa7dee1bf11a')\"\n",
              "              title=\"Convert this dataframe to an interactive table.\"\n",
              "              style=\"display:none;\">\n",
              "        \n",
              "  <svg xmlns=\"http://www.w3.org/2000/svg\" height=\"24px\"viewBox=\"0 0 24 24\"\n",
              "       width=\"24px\">\n",
              "    <path d=\"M0 0h24v24H0V0z\" fill=\"none\"/>\n",
              "    <path d=\"M18.56 5.44l.94 2.06.94-2.06 2.06-.94-2.06-.94-.94-2.06-.94 2.06-2.06.94zm-11 1L8.5 8.5l.94-2.06 2.06-.94-2.06-.94L8.5 2.5l-.94 2.06-2.06.94zm10 10l.94 2.06.94-2.06 2.06-.94-2.06-.94-.94-2.06-.94 2.06-2.06.94z\"/><path d=\"M17.41 7.96l-1.37-1.37c-.4-.4-.92-.59-1.43-.59-.52 0-1.04.2-1.43.59L10.3 9.45l-7.72 7.72c-.78.78-.78 2.05 0 2.83L4 21.41c.39.39.9.59 1.41.59.51 0 1.02-.2 1.41-.59l7.78-7.78 2.81-2.81c.8-.78.8-2.07 0-2.86zM5.41 20L4 18.59l7.72-7.72 1.47 1.35L5.41 20z\"/>\n",
              "  </svg>\n",
              "      </button>\n",
              "      \n",
              "  <style>\n",
              "    .colab-df-container {\n",
              "      display:flex;\n",
              "      flex-wrap:wrap;\n",
              "      gap: 12px;\n",
              "    }\n",
              "\n",
              "    .colab-df-convert {\n",
              "      background-color: #E8F0FE;\n",
              "      border: none;\n",
              "      border-radius: 50%;\n",
              "      cursor: pointer;\n",
              "      display: none;\n",
              "      fill: #1967D2;\n",
              "      height: 32px;\n",
              "      padding: 0 0 0 0;\n",
              "      width: 32px;\n",
              "    }\n",
              "\n",
              "    .colab-df-convert:hover {\n",
              "      background-color: #E2EBFA;\n",
              "      box-shadow: 0px 1px 2px rgba(60, 64, 67, 0.3), 0px 1px 3px 1px rgba(60, 64, 67, 0.15);\n",
              "      fill: #174EA6;\n",
              "    }\n",
              "\n",
              "    [theme=dark] .colab-df-convert {\n",
              "      background-color: #3B4455;\n",
              "      fill: #D2E3FC;\n",
              "    }\n",
              "\n",
              "    [theme=dark] .colab-df-convert:hover {\n",
              "      background-color: #434B5C;\n",
              "      box-shadow: 0px 1px 3px 1px rgba(0, 0, 0, 0.15);\n",
              "      filter: drop-shadow(0px 1px 2px rgba(0, 0, 0, 0.3));\n",
              "      fill: #FFFFFF;\n",
              "    }\n",
              "  </style>\n",
              "\n",
              "      <script>\n",
              "        const buttonEl =\n",
              "          document.querySelector('#df-7fecc3e0-6870-40ac-ac9d-fa7dee1bf11a button.colab-df-convert');\n",
              "        buttonEl.style.display =\n",
              "          google.colab.kernel.accessAllowed ? 'block' : 'none';\n",
              "\n",
              "        async function convertToInteractive(key) {\n",
              "          const element = document.querySelector('#df-7fecc3e0-6870-40ac-ac9d-fa7dee1bf11a');\n",
              "          const dataTable =\n",
              "            await google.colab.kernel.invokeFunction('convertToInteractive',\n",
              "                                                     [key], {});\n",
              "          if (!dataTable) return;\n",
              "\n",
              "          const docLinkHtml = 'Like what you see? Visit the ' +\n",
              "            '<a target=\"_blank\" href=https://colab.research.google.com/notebooks/data_table.ipynb>data table notebook</a>'\n",
              "            + ' to learn more about interactive tables.';\n",
              "          element.innerHTML = '';\n",
              "          dataTable['output_type'] = 'display_data';\n",
              "          await google.colab.output.renderOutput(dataTable, element);\n",
              "          const docLink = document.createElement('div');\n",
              "          docLink.innerHTML = docLinkHtml;\n",
              "          element.appendChild(docLink);\n",
              "        }\n",
              "      </script>\n",
              "    </div>\n",
              "  </div>\n",
              "  "
            ],
            "text/plain": [
              "   id                name      date  ... threat_level         flee  body_camera\n",
              "0   3          Tim Elliot  02/01/15  ...       attack  Not fleeing        False\n",
              "1   4    Lewis Lee Lembke  02/01/15  ...       attack  Not fleeing        False\n",
              "2   5  John Paul Quintero  03/01/15  ...        other  Not fleeing        False\n",
              "3   8     Matthew Hoffman  04/01/15  ...       attack  Not fleeing        False\n",
              "4   9   Michael Rodriguez  04/01/15  ...       attack  Not fleeing        False\n",
              "\n",
              "[5 rows x 14 columns]"
            ]
          },
          "metadata": {},
          "execution_count": 7
        }
      ]
    },
    {
      "cell_type": "code",
      "source": [
        "# with matplotlib\n",
        "\n",
        "a = kill.gender.value_counts().index\n",
        "a"
      ],
      "metadata": {
        "id": "RSGMg11KOBrL",
        "colab": {
          "base_uri": "https://localhost:8080/"
        },
        "outputId": "9f20cb24-3d48-4cba-f4ee-7863014bf10a"
      },
      "execution_count": null,
      "outputs": [
        {
          "output_type": "execute_result",
          "data": {
            "text/plain": [
              "Index(['M', 'F'], dtype='object')"
            ]
          },
          "metadata": {},
          "execution_count": 31
        }
      ]
    },
    {
      "cell_type": "code",
      "source": [
        "b= kill.gender.value_counts().values\n",
        "b"
      ],
      "metadata": {
        "colab": {
          "base_uri": "https://localhost:8080/"
        },
        "id": "9AJhaBbRkQ_k",
        "outputId": "2a2d7aff-e9bb-4ff6-b6a5-bf52ee3da51f"
      },
      "execution_count": null,
      "outputs": [
        {
          "output_type": "execute_result",
          "data": {
            "text/plain": [
              "array([2428,  107])"
            ]
          },
          "metadata": {},
          "execution_count": 32
        }
      ]
    },
    {
      "cell_type": "code",
      "source": [
        "\n",
        "fig, ax =plt.subplots(figsize=(6, 4))\n",
        "ax.bar(a,b)\n",
        "ax.set_title(\"Gender Distribution\")\n",
        "plt.text(0, b[0], b[0], horizontalalignment='center')\n",
        "plt.text(1, b[1], b[1], horizontalalignment='center');"
      ],
      "metadata": {
        "colab": {
          "base_uri": "https://localhost:8080/",
          "height": 281
        },
        "id": "DBTWHRNuaBqX",
        "outputId": "304111a5-3b30-48d8-eeeb-dee35ed75c68"
      },
      "execution_count": null,
      "outputs": [
        {
          "output_type": "display_data",
          "data": {
            "image/png": "[encoded data removed]",
            "text/plain": [
              "<Figure size 432x288 with 1 Axes>"
            ]
          },
          "metadata": {
            "needs_background": "light"
          }
        }
      ]
    },
    {
      "cell_type": "code",
      "source": [
        ""
      ],
      "metadata": {
        "id": "HzJsgirykBmj"
      },
      "execution_count": null,
      "outputs": []
    },
    {
      "cell_type": "markdown",
      "metadata": {
        "id": "3CDiN8a22Zi9"
      },
      "source": [
        "## 2: Plot 7 most common kill weapons"
      ]
    },
    {
      "cell_type": "code",
      "source": [
        "kill['armed'].value_counts().sort_values(ascending=False).head()"
      ],
      "metadata": {
        "colab": {
          "base_uri": "https://localhost:8080/"
        },
        "id": "HNm_mpf812sV",
        "outputId": "5fe51828-fdbe-4485-be2b-3946743da445"
      },
      "execution_count": null,
      "outputs": [
        {
          "output_type": "execute_result",
          "data": {
            "text/plain": [
              "gun             1398\n",
              "knife            373\n",
              "vehicle          177\n",
              "unarmed          171\n",
              "undetermined     117\n",
              "Name: armed, dtype: int64"
            ]
          },
          "metadata": {},
          "execution_count": 72
        }
      ]
    },
    {
      "cell_type": "code",
      "source": [
        "c=kill.armed.value_counts().head(7).index\n",
        "c"
      ],
      "metadata": {
        "colab": {
          "base_uri": "https://localhost:8080/"
        },
        "id": "qS2ScH0On2as",
        "outputId": "f1434cf9-5c0c-4f08-9bbb-ab15fab5d003"
      },
      "execution_count": 13,
      "outputs": [
        {
          "output_type": "execute_result",
          "data": {
            "text/plain": [
              "Index(['gun', 'knife', 'vehicle', 'unarmed', 'undetermined', 'toy weapon',\n",
              "       'machete'],\n",
              "      dtype='object')"
            ]
          },
          "metadata": {},
          "execution_count": 13
        }
      ]
    },
    {
      "cell_type": "code",
      "source": [
        "d=kill.armed.value_counts().head(7).values\n",
        "d"
      ],
      "metadata": {
        "colab": {
          "base_uri": "https://localhost:8080/"
        },
        "id": "69aXWwsVs9Rf",
        "outputId": "2b0fe4b5-b4ea-402f-9866-ac5696ddc826"
      },
      "execution_count": 14,
      "outputs": [
        {
          "output_type": "execute_result",
          "data": {
            "text/plain": [
              "array([1398,  373,  177,  171,  117,  104,   18])"
            ]
          },
          "metadata": {},
          "execution_count": 14
        }
      ]
    },
    {
      "cell_type": "code",
      "source": [
        "def labels(x,y):\n",
        "  for i in range(len(x)):\n",
        "            plt.text(i ,y[i] ,y[i],horizontalalignment='center',)\n",
        "\n",
        "fig, ax = plt.subplots(figsize=(8,6))\n",
        "ax.bar(c,d)\n",
        "labels(c,d)\n",
        "plt.tight_layout()"
      ],
      "metadata": {
        "colab": {
          "base_uri": "https://localhost:8080/",
          "height": 441
        },
        "id": "C3vI3BHe1wcF",
        "outputId": "9f85d27d-aeba-4050-9c5c-e553857796ad"
      },
      "execution_count": 16,
      "outputs": [
        {
          "output_type": "display_data",
          "data": {
            "image/png": "[encoded data removed]",
            "text/plain": [
              "<Figure size 576x432 with 1 Axes>"
            ]
          },
          "metadata": {
            "needs_background": "light"
          }
        }
      ]
    },
    {
      "cell_type": "code",
      "metadata": {
        "id": "v6AvLOw82Zi-",
        "colab": {
          "base_uri": "https://localhost:8080/",
          "height": 379
        },
        "outputId": "b0539d81-1511-4ec4-b5dd-4160319f2096"
      },
      "source": [
        "# with matplotlib\n"
      ],
      "execution_count": null,
      "outputs": [
        {
          "output_type": "display_data",
          "data": {
            "image/png": "[encoded data removed]",
            "text/plain": [
              "<Figure size 576x360 with 1 Axes>"
            ]
          },
          "metadata": {
            "tags": [],
            "needs_background": "light"
          }
        }
      ]
    },
    {
      "cell_type": "markdown",
      "metadata": {
        "id": "GqXH5Xag2Zi-"
      },
      "source": [
        "## 3: Plot number of age of killed people under two groups : Under 25 and Above 25"
      ]
    },
    {
      "cell_type": "code",
      "source": [
        "kill.head()"
      ],
      "metadata": {
        "colab": {
          "base_uri": "https://localhost:8080/",
          "height": 337
        },
        "id": "FEFzntl6RQm0",
        "outputId": "d677bc63-dadb-46ca-b785-eb6dfad9f59d"
      },
      "execution_count": 3,
      "outputs": [
        {
          "output_type": "execute_result",
          "data": {
            "text/html": [
              "\n",
              "  <div id=\"df-d3b90cf3-7c41-42ae-8fe9-4907065bc753\">\n",
              "    <div class=\"colab-df-container\">\n",
              "      <div>\n",
              "<style scoped>\n",
              "    .dataframe tbody tr th:only-of-type {\n",
              "        vertical-align: middle;\n",
              "    }\n",
              "\n",
              "    .dataframe tbody tr th {\n",
              "        vertical-align: top;\n",
              "    }\n",
              "\n",
              "    .dataframe thead th {\n",
              "        text-align: right;\n",
              "    }\n",
              "</style>\n",
              "<table border=\"1\" class=\"dataframe\">\n",
              "  <thead>\n",
              "    <tr style=\"text-align: right;\">\n",
              "      <th></th>\n",
              "      <th>id</th>\n",
              "      <th>name</th>\n",
              "      <th>date</th>\n",
              "      <th>manner_of_death</th>\n",
              "      <th>armed</th>\n",
              "      <th>age</th>\n",
              "      <th>gender</th>\n",
              "      <th>race</th>\n",
              "      <th>city</th>\n",
              "      <th>state</th>\n",
              "      <th>signs_of_mental_illness</th>\n",
              "      <th>threat_level</th>\n",
              "      <th>flee</th>\n",
              "      <th>body_camera</th>\n",
              "    </tr>\n",
              "  </thead>\n",
              "  <tbody>\n",
              "    <tr>\n",
              "      <th>0</th>\n",
              "      <td>3</td>\n",
              "      <td>Tim Elliot</td>\n",
              "      <td>02/01/15</td>\n",
              "      <td>shot</td>\n",
              "      <td>gun</td>\n",
              "      <td>53.0</td>\n",
              "      <td>M</td>\n",
              "      <td>A</td>\n",
              "      <td>Shelton</td>\n",
              "      <td>WA</td>\n",
              "      <td>True</td>\n",
              "      <td>attack</td>\n",
              "      <td>Not fleeing</td>\n",
              "      <td>False</td>\n",
              "    </tr>\n",
              "    <tr>\n",
              "      <th>1</th>\n",
              "      <td>4</td>\n",
              "      <td>Lewis Lee Lembke</td>\n",
              "      <td>02/01/15</td>\n",
              "      <td>shot</td>\n",
              "      <td>gun</td>\n",
              "      <td>47.0</td>\n",
              "      <td>M</td>\n",
              "      <td>W</td>\n",
              "      <td>Aloha</td>\n",
              "      <td>OR</td>\n",
              "      <td>False</td>\n",
              "      <td>attack</td>\n",
              "      <td>Not fleeing</td>\n",
              "      <td>False</td>\n",
              "    </tr>\n",
              "    <tr>\n",
              "      <th>2</th>\n",
              "      <td>5</td>\n",
              "      <td>John Paul Quintero</td>\n",
              "      <td>03/01/15</td>\n",
              "      <td>shot and Tasered</td>\n",
              "      <td>unarmed</td>\n",
              "      <td>23.0</td>\n",
              "      <td>M</td>\n",
              "      <td>H</td>\n",
              "      <td>Wichita</td>\n",
              "      <td>KS</td>\n",
              "      <td>False</td>\n",
              "      <td>other</td>\n",
              "      <td>Not fleeing</td>\n",
              "      <td>False</td>\n",
              "    </tr>\n",
              "    <tr>\n",
              "      <th>3</th>\n",
              "      <td>8</td>\n",
              "      <td>Matthew Hoffman</td>\n",
              "      <td>04/01/15</td>\n",
              "      <td>shot</td>\n",
              "      <td>toy weapon</td>\n",
              "      <td>32.0</td>\n",
              "      <td>M</td>\n",
              "      <td>W</td>\n",
              "      <td>San Francisco</td>\n",
              "      <td>CA</td>\n",
              "      <td>True</td>\n",
              "      <td>attack</td>\n",
              "      <td>Not fleeing</td>\n",
              "      <td>False</td>\n",
              "    </tr>\n",
              "    <tr>\n",
              "      <th>4</th>\n",
              "      <td>9</td>\n",
              "      <td>Michael Rodriguez</td>\n",
              "      <td>04/01/15</td>\n",
              "      <td>shot</td>\n",
              "      <td>nail gun</td>\n",
              "      <td>39.0</td>\n",
              "      <td>M</td>\n",
              "      <td>H</td>\n",
              "      <td>Evans</td>\n",
              "      <td>CO</td>\n",
              "      <td>False</td>\n",
              "      <td>attack</td>\n",
              "      <td>Not fleeing</td>\n",
              "      <td>False</td>\n",
              "    </tr>\n",
              "  </tbody>\n",
              "</table>\n",
              "</div>\n",
              "      <button class=\"colab-df-convert\" onclick=\"convertToInteractive('df-d3b90cf3-7c41-42ae-8fe9-4907065bc753')\"\n",
              "              title=\"Convert this dataframe to an interactive table.\"\n",
              "              style=\"display:none;\">\n",
              "        \n",
              "  <svg xmlns=\"http://www.w3.org/2000/svg\" height=\"24px\"viewBox=\"0 0 24 24\"\n",
              "       width=\"24px\">\n",
              "    <path d=\"M0 0h24v24H0V0z\" fill=\"none\"/>\n",
              "    <path d=\"M18.56 5.44l.94 2.06.94-2.06 2.06-.94-2.06-.94-.94-2.06-.94 2.06-2.06.94zm-11 1L8.5 8.5l.94-2.06 2.06-.94-2.06-.94L8.5 2.5l-.94 2.06-2.06.94zm10 10l.94 2.06.94-2.06 2.06-.94-2.06-.94-.94-2.06-.94 2.06-2.06.94z\"/><path d=\"M17.41 7.96l-1.37-1.37c-.4-.4-.92-.59-1.43-.59-.52 0-1.04.2-1.43.59L10.3 9.45l-7.72 7.72c-.78.78-.78 2.05 0 2.83L4 21.41c.39.39.9.59 1.41.59.51 0 1.02-.2 1.41-.59l7.78-7.78 2.81-2.81c.8-.78.8-2.07 0-2.86zM5.41 20L4 18.59l7.72-7.72 1.47 1.35L5.41 20z\"/>\n",
              "  </svg>\n",
              "      </button>\n",
              "      \n",
              "  <style>\n",
              "    .colab-df-container {\n",
              "      display:flex;\n",
              "      flex-wrap:wrap;\n",
              "      gap: 12px;\n",
              "    }\n",
              "\n",
              "    .colab-df-convert {\n",
              "      background-color: #E8F0FE;\n",
              "      border: none;\n",
              "      border-radius: 50%;\n",
              "      cursor: pointer;\n",
              "      display: none;\n",
              "      fill: #1967D2;\n",
              "      height: 32px;\n",
              "      padding: 0 0 0 0;\n",
              "      width: 32px;\n",
              "    }\n",
              "\n",
              "    .colab-df-convert:hover {\n",
              "      background-color: #E2EBFA;\n",
              "      box-shadow: 0px 1px 2px rgba(60, 64, 67, 0.3), 0px 1px 3px 1px rgba(60, 64, 67, 0.15);\n",
              "      fill: #174EA6;\n",
              "    }\n",
              "\n",
              "    [theme=dark] .colab-df-convert {\n",
              "      background-color: #3B4455;\n",
              "      fill: #D2E3FC;\n",
              "    }\n",
              "\n",
              "    [theme=dark] .colab-df-convert:hover {\n",
              "      background-color: #434B5C;\n",
              "      box-shadow: 0px 1px 3px 1px rgba(0, 0, 0, 0.15);\n",
              "      filter: drop-shadow(0px 1px 2px rgba(0, 0, 0, 0.3));\n",
              "      fill: #FFFFFF;\n",
              "    }\n",
              "  </style>\n",
              "\n",
              "      <script>\n",
              "        const buttonEl =\n",
              "          document.querySelector('#df-d3b90cf3-7c41-42ae-8fe9-4907065bc753 button.colab-df-convert');\n",
              "        buttonEl.style.display =\n",
              "          google.colab.kernel.accessAllowed ? 'block' : 'none';\n",
              "\n",
              "        async function convertToInteractive(key) {\n",
              "          const element = document.querySelector('#df-d3b90cf3-7c41-42ae-8fe9-4907065bc753');\n",
              "          const dataTable =\n",
              "            await google.colab.kernel.invokeFunction('convertToInteractive',\n",
              "                                                     [key], {});\n",
              "          if (!dataTable) return;\n",
              "\n",
              "          const docLinkHtml = 'Like what you see? Visit the ' +\n",
              "            '<a target=\"_blank\" href=https://colab.research.google.com/notebooks/data_table.ipynb>data table notebook</a>'\n",
              "            + ' to learn more about interactive tables.';\n",
              "          element.innerHTML = '';\n",
              "          dataTable['output_type'] = 'display_data';\n",
              "          await google.colab.output.renderOutput(dataTable, element);\n",
              "          const docLink = document.createElement('div');\n",
              "          docLink.innerHTML = docLinkHtml;\n",
              "          element.appendChild(docLink);\n",
              "        }\n",
              "      </script>\n",
              "    </div>\n",
              "  </div>\n",
              "  "
            ],
            "text/plain": [
              "   id                name      date  ... threat_level         flee  body_camera\n",
              "0   3          Tim Elliot  02/01/15  ...       attack  Not fleeing        False\n",
              "1   4    Lewis Lee Lembke  02/01/15  ...       attack  Not fleeing        False\n",
              "2   5  John Paul Quintero  03/01/15  ...        other  Not fleeing        False\n",
              "3   8     Matthew Hoffman  04/01/15  ...       attack  Not fleeing        False\n",
              "4   9   Michael Rodriguez  04/01/15  ...       attack  Not fleeing        False\n",
              "\n",
              "[5 rows x 14 columns]"
            ]
          },
          "metadata": {},
          "execution_count": 3
        }
      ]
    },
    {
      "cell_type": "code",
      "metadata": {
        "id": "V4mng-vC2Zi-",
        "colab": {
          "base_uri": "https://localhost:8080/",
          "height": 337
        },
        "outputId": "d6752e4d-20b4-4b87-9108-3fbc2c9a1fa5"
      },
      "source": [
        "kill['age_cat'] = np.where((kill['age'] > 25), 'above25', np.where((kill['age'] <=25), 'below25',\"below25\"))\n",
        "kill.head()"
      ],
      "execution_count": 7,
      "outputs": [
        {
          "output_type": "execute_result",
          "data": {
            "text/html": [
              "\n",
              "  <div id=\"df-7b0cfe78-81bb-40e3-9cf0-1d1ef40bc39b\">\n",
              "    <div class=\"colab-df-container\">\n",
              "      <div>\n",
              "<style scoped>\n",
              "    .dataframe tbody tr th:only-of-type {\n",
              "        vertical-align: middle;\n",
              "    }\n",
              "\n",
              "    .dataframe tbody tr th {\n",
              "        vertical-align: top;\n",
              "    }\n",
              "\n",
              "    .dataframe thead th {\n",
              "        text-align: right;\n",
              "    }\n",
              "</style>\n",
              "<table border=\"1\" class=\"dataframe\">\n",
              "  <thead>\n",
              "    <tr style=\"text-align: right;\">\n",
              "      <th></th>\n",
              "      <th>id</th>\n",
              "      <th>name</th>\n",
              "      <th>date</th>\n",
              "      <th>manner_of_death</th>\n",
              "      <th>armed</th>\n",
              "      <th>age</th>\n",
              "      <th>gender</th>\n",
              "      <th>race</th>\n",
              "      <th>city</th>\n",
              "      <th>state</th>\n",
              "      <th>signs_of_mental_illness</th>\n",
              "      <th>threat_level</th>\n",
              "      <th>flee</th>\n",
              "      <th>body_camera</th>\n",
              "      <th>age_cat</th>\n",
              "    </tr>\n",
              "  </thead>\n",
              "  <tbody>\n",
              "    <tr>\n",
              "      <th>0</th>\n",
              "      <td>3</td>\n",
              "      <td>Tim Elliot</td>\n",
              "      <td>02/01/15</td>\n",
              "      <td>shot</td>\n",
              "      <td>gun</td>\n",
              "      <td>53.0</td>\n",
              "      <td>M</td>\n",
              "      <td>A</td>\n",
              "      <td>Shelton</td>\n",
              "      <td>WA</td>\n",
              "      <td>True</td>\n",
              "      <td>attack</td>\n",
              "      <td>Not fleeing</td>\n",
              "      <td>False</td>\n",
              "      <td>above25</td>\n",
              "    </tr>\n",
              "    <tr>\n",
              "      <th>1</th>\n",
              "      <td>4</td>\n",
              "      <td>Lewis Lee Lembke</td>\n",
              "      <td>02/01/15</td>\n",
              "      <td>shot</td>\n",
              "      <td>gun</td>\n",
              "      <td>47.0</td>\n",
              "      <td>M</td>\n",
              "      <td>W</td>\n",
              "      <td>Aloha</td>\n",
              "      <td>OR</td>\n",
              "      <td>False</td>\n",
              "      <td>attack</td>\n",
              "      <td>Not fleeing</td>\n",
              "      <td>False</td>\n",
              "      <td>above25</td>\n",
              "    </tr>\n",
              "    <tr>\n",
              "      <th>2</th>\n",
              "      <td>5</td>\n",
              "      <td>John Paul Quintero</td>\n",
              "      <td>03/01/15</td>\n",
              "      <td>shot and Tasered</td>\n",
              "      <td>unarmed</td>\n",
              "      <td>23.0</td>\n",
              "      <td>M</td>\n",
              "      <td>H</td>\n",
              "      <td>Wichita</td>\n",
              "      <td>KS</td>\n",
              "      <td>False</td>\n",
              "      <td>other</td>\n",
              "      <td>Not fleeing</td>\n",
              "      <td>False</td>\n",
              "      <td>below25</td>\n",
              "    </tr>\n",
              "    <tr>\n",
              "      <th>3</th>\n",
              "      <td>8</td>\n",
              "      <td>Matthew Hoffman</td>\n",
              "      <td>04/01/15</td>\n",
              "      <td>shot</td>\n",
              "      <td>toy weapon</td>\n",
              "      <td>32.0</td>\n",
              "      <td>M</td>\n",
              "      <td>W</td>\n",
              "      <td>San Francisco</td>\n",
              "      <td>CA</td>\n",
              "      <td>True</td>\n",
              "      <td>attack</td>\n",
              "      <td>Not fleeing</td>\n",
              "      <td>False</td>\n",
              "      <td>above25</td>\n",
              "    </tr>\n",
              "    <tr>\n",
              "      <th>4</th>\n",
              "      <td>9</td>\n",
              "      <td>Michael Rodriguez</td>\n",
              "      <td>04/01/15</td>\n",
              "      <td>shot</td>\n",
              "      <td>nail gun</td>\n",
              "      <td>39.0</td>\n",
              "      <td>M</td>\n",
              "      <td>H</td>\n",
              "      <td>Evans</td>\n",
              "      <td>CO</td>\n",
              "      <td>False</td>\n",
              "      <td>attack</td>\n",
              "      <td>Not fleeing</td>\n",
              "      <td>False</td>\n",
              "      <td>above25</td>\n",
              "    </tr>\n",
              "  </tbody>\n",
              "</table>\n",
              "</div>\n",
              "      <button class=\"colab-df-convert\" onclick=\"convertToInteractive('df-7b0cfe78-81bb-40e3-9cf0-1d1ef40bc39b')\"\n",
              "              title=\"Convert this dataframe to an interactive table.\"\n",
              "              style=\"display:none;\">\n",
              "        \n",
              "  <svg xmlns=\"http://www.w3.org/2000/svg\" height=\"24px\"viewBox=\"0 0 24 24\"\n",
              "       width=\"24px\">\n",
              "    <path d=\"M0 0h24v24H0V0z\" fill=\"none\"/>\n",
              "    <path d=\"M18.56 5.44l.94 2.06.94-2.06 2.06-.94-2.06-.94-.94-2.06-.94 2.06-2.06.94zm-11 1L8.5 8.5l.94-2.06 2.06-.94-2.06-.94L8.5 2.5l-.94 2.06-2.06.94zm10 10l.94 2.06.94-2.06 2.06-.94-2.06-.94-.94-2.06-.94 2.06-2.06.94z\"/><path d=\"M17.41 7.96l-1.37-1.37c-.4-.4-.92-.59-1.43-.59-.52 0-1.04.2-1.43.59L10.3 9.45l-7.72 7.72c-.78.78-.78 2.05 0 2.83L4 21.41c.39.39.9.59 1.41.59.51 0 1.02-.2 1.41-.59l7.78-7.78 2.81-2.81c.8-.78.8-2.07 0-2.86zM5.41 20L4 18.59l7.72-7.72 1.47 1.35L5.41 20z\"/>\n",
              "  </svg>\n",
              "      </button>\n",
              "      \n",
              "  <style>\n",
              "    .colab-df-container {\n",
              "      display:flex;\n",
              "      flex-wrap:wrap;\n",
              "      gap: 12px;\n",
              "    }\n",
              "\n",
              "    .colab-df-convert {\n",
              "      background-color: #E8F0FE;\n",
              "      border: none;\n",
              "      border-radius: 50%;\n",
              "      cursor: pointer;\n",
              "      display: none;\n",
              "      fill: #1967D2;\n",
              "      height: 32px;\n",
              "      padding: 0 0 0 0;\n",
              "      width: 32px;\n",
              "    }\n",
              "\n",
              "    .colab-df-convert:hover {\n",
              "      background-color: #E2EBFA;\n",
              "      box-shadow: 0px 1px 2px rgba(60, 64, 67, 0.3), 0px 1px 3px 1px rgba(60, 64, 67, 0.15);\n",
              "      fill: #174EA6;\n",
              "    }\n",
              "\n",
              "    [theme=dark] .colab-df-convert {\n",
              "      background-color: #3B4455;\n",
              "      fill: #D2E3FC;\n",
              "    }\n",
              "\n",
              "    [theme=dark] .colab-df-convert:hover {\n",
              "      background-color: #434B5C;\n",
              "      box-shadow: 0px 1px 3px 1px rgba(0, 0, 0, 0.15);\n",
              "      filter: drop-shadow(0px 1px 2px rgba(0, 0, 0, 0.3));\n",
              "      fill: #FFFFFF;\n",
              "    }\n",
              "  </style>\n",
              "\n",
              "      <script>\n",
              "        const buttonEl =\n",
              "          document.querySelector('#df-7b0cfe78-81bb-40e3-9cf0-1d1ef40bc39b button.colab-df-convert');\n",
              "        buttonEl.style.display =\n",
              "          google.colab.kernel.accessAllowed ? 'block' : 'none';\n",
              "\n",
              "        async function convertToInteractive(key) {\n",
              "          const element = document.querySelector('#df-7b0cfe78-81bb-40e3-9cf0-1d1ef40bc39b');\n",
              "          const dataTable =\n",
              "            await google.colab.kernel.invokeFunction('convertToInteractive',\n",
              "                                                     [key], {});\n",
              "          if (!dataTable) return;\n",
              "\n",
              "          const docLinkHtml = 'Like what you see? Visit the ' +\n",
              "            '<a target=\"_blank\" href=https://colab.research.google.com/notebooks/data_table.ipynb>data table notebook</a>'\n",
              "            + ' to learn more about interactive tables.';\n",
              "          element.innerHTML = '';\n",
              "          dataTable['output_type'] = 'display_data';\n",
              "          await google.colab.output.renderOutput(dataTable, element);\n",
              "          const docLink = document.createElement('div');\n",
              "          docLink.innerHTML = docLinkHtml;\n",
              "          element.appendChild(docLink);\n",
              "        }\n",
              "      </script>\n",
              "    </div>\n",
              "  </div>\n",
              "  "
            ],
            "text/plain": [
              "   id                name      date  ...         flee body_camera  age_cat\n",
              "0   3          Tim Elliot  02/01/15  ...  Not fleeing       False  above25\n",
              "1   4    Lewis Lee Lembke  02/01/15  ...  Not fleeing       False  above25\n",
              "2   5  John Paul Quintero  03/01/15  ...  Not fleeing       False  below25\n",
              "3   8     Matthew Hoffman  04/01/15  ...  Not fleeing       False  above25\n",
              "4   9   Michael Rodriguez  04/01/15  ...  Not fleeing       False  above25\n",
              "\n",
              "[5 rows x 15 columns]"
            ]
          },
          "metadata": {},
          "execution_count": 7
        }
      ]
    },
    {
      "cell_type": "code",
      "metadata": {
        "id": "DJzAOutV2Zi-",
        "colab": {
          "base_uri": "https://localhost:8080/"
        },
        "outputId": "5c3f2c63-eec1-48b5-aaa3-f113ef30b499"
      },
      "source": [
        "kill['age_cat'].value_counts()"
      ],
      "execution_count": null,
      "outputs": [
        {
          "output_type": "execute_result",
          "data": {
            "text/plain": [
              "above25    1905\n",
              "below25     630\n",
              "Name: age_cat, dtype: int64"
            ]
          },
          "metadata": {},
          "execution_count": 53
        }
      ]
    },
    {
      "cell_type": "code",
      "source": [
        "# with matplotlib\n",
        "fig, ax = plt.subplots(figsize=(6,4))\n",
        "ax.bar((kill.age_cat.value_counts().index), kill.age_cat.value_counts().values)\n",
        "labels(kill.age_cat.value_counts().index, kill.age_cat.value_counts().values)\n",
        "plt.tight_layout()"
      ],
      "metadata": {
        "colab": {
          "base_uri": "https://localhost:8080/",
          "height": 297
        },
        "id": "EW-XVvVHT0Yg",
        "outputId": "f7238483-f1ad-45cb-dec5-7cae26a0aead"
      },
      "execution_count": 17,
      "outputs": [
        {
          "output_type": "display_data",
          "data": {
            "image/png": "[encoded data removed]",
            "text/plain": [
              "<Figure size 432x288 with 1 Axes>"
            ]
          },
          "metadata": {
            "needs_background": "light"
          }
        }
      ]
    },
    {
      "cell_type": "markdown",
      "metadata": {
        "id": "SZ-wps772Zi_"
      },
      "source": [
        "## 4: Plot number of killed poeple by race"
      ]
    },
    {
      "cell_type": "code",
      "source": [
        "kill.race.value_counts()"
      ],
      "metadata": {
        "colab": {
          "base_uri": "https://localhost:8080/"
        },
        "id": "Z9fRtoF_UuwZ",
        "outputId": "2ba17928-f7e5-4691-d6d0-82728ba666fe"
      },
      "execution_count": null,
      "outputs": [
        {
          "output_type": "execute_result",
          "data": {
            "text/plain": [
              "W    1201\n",
              "B     618\n",
              "H     423\n",
              "A      39\n",
              "N      31\n",
              "O      28\n",
              "Name: race, dtype: int64"
            ]
          },
          "metadata": {},
          "execution_count": 62
        }
      ]
    },
    {
      "cell_type": "code",
      "metadata": {
        "id": "Bb16OmdB2ZjA",
        "colab": {
          "base_uri": "https://localhost:8080/",
          "height": 281
        },
        "outputId": "16c2d847-ead0-4fd3-88f5-12d6eb385208"
      },
      "source": [
        "# with matplotlib\n",
        "fig, ax = plt.subplots(figsize=(6,4))\n",
        "ax.bar((kill.race.value_counts().index), kill.race.value_counts().values)\n",
        "ax.set_title(\"Race of killed people\");"
      ],
      "execution_count": null,
      "outputs": [
        {
          "output_type": "display_data",
          "data": {
            "image/png": "[encoded data removed]",
            "text/plain": [
              "<Figure size 432x288 with 1 Axes>"
            ]
          },
          "metadata": {
            "needs_background": "light"
          }
        }
      ]
    },
    {
      "cell_type": "markdown",
      "metadata": {
        "id": "9pGSRTxe-l5B"
      },
      "source": [
        "## 5: Killed People According to Races (Pie Chart)"
      ]
    },
    {
      "cell_type": "code",
      "source": [
        "kill.head()"
      ],
      "metadata": {
        "colab": {
          "base_uri": "https://localhost:8080/",
          "height": 337
        },
        "id": "O4Ij4RHgXa8o",
        "outputId": "fbaad325-bd0b-434f-d132-440f829e7440"
      },
      "execution_count": 6,
      "outputs": [
        {
          "output_type": "execute_result",
          "data": {
            "text/html": [
              "\n",
              "  <div id=\"df-6dcdf3a2-2e6b-4e29-a8a3-d683a37d593a\">\n",
              "    <div class=\"colab-df-container\">\n",
              "      <div>\n",
              "<style scoped>\n",
              "    .dataframe tbody tr th:only-of-type {\n",
              "        vertical-align: middle;\n",
              "    }\n",
              "\n",
              "    .dataframe tbody tr th {\n",
              "        vertical-align: top;\n",
              "    }\n",
              "\n",
              "    .dataframe thead th {\n",
              "        text-align: right;\n",
              "    }\n",
              "</style>\n",
              "<table border=\"1\" class=\"dataframe\">\n",
              "  <thead>\n",
              "    <tr style=\"text-align: right;\">\n",
              "      <th></th>\n",
              "      <th>id</th>\n",
              "      <th>name</th>\n",
              "      <th>date</th>\n",
              "      <th>manner_of_death</th>\n",
              "      <th>armed</th>\n",
              "      <th>age</th>\n",
              "      <th>gender</th>\n",
              "      <th>race</th>\n",
              "      <th>city</th>\n",
              "      <th>state</th>\n",
              "      <th>signs_of_mental_illness</th>\n",
              "      <th>threat_level</th>\n",
              "      <th>flee</th>\n",
              "      <th>body_camera</th>\n",
              "      <th>age_cat</th>\n",
              "    </tr>\n",
              "  </thead>\n",
              "  <tbody>\n",
              "    <tr>\n",
              "      <th>0</th>\n",
              "      <td>3</td>\n",
              "      <td>Tim Elliot</td>\n",
              "      <td>02/01/15</td>\n",
              "      <td>shot</td>\n",
              "      <td>gun</td>\n",
              "      <td>53.0</td>\n",
              "      <td>M</td>\n",
              "      <td>A</td>\n",
              "      <td>Shelton</td>\n",
              "      <td>WA</td>\n",
              "      <td>True</td>\n",
              "      <td>attack</td>\n",
              "      <td>Not fleeing</td>\n",
              "      <td>False</td>\n",
              "      <td>above25</td>\n",
              "    </tr>\n",
              "    <tr>\n",
              "      <th>1</th>\n",
              "      <td>4</td>\n",
              "      <td>Lewis Lee Lembke</td>\n",
              "      <td>02/01/15</td>\n",
              "      <td>shot</td>\n",
              "      <td>gun</td>\n",
              "      <td>47.0</td>\n",
              "      <td>M</td>\n",
              "      <td>W</td>\n",
              "      <td>Aloha</td>\n",
              "      <td>OR</td>\n",
              "      <td>False</td>\n",
              "      <td>attack</td>\n",
              "      <td>Not fleeing</td>\n",
              "      <td>False</td>\n",
              "      <td>above25</td>\n",
              "    </tr>\n",
              "    <tr>\n",
              "      <th>2</th>\n",
              "      <td>5</td>\n",
              "      <td>John Paul Quintero</td>\n",
              "      <td>03/01/15</td>\n",
              "      <td>shot and Tasered</td>\n",
              "      <td>unarmed</td>\n",
              "      <td>23.0</td>\n",
              "      <td>M</td>\n",
              "      <td>H</td>\n",
              "      <td>Wichita</td>\n",
              "      <td>KS</td>\n",
              "      <td>False</td>\n",
              "      <td>other</td>\n",
              "      <td>Not fleeing</td>\n",
              "      <td>False</td>\n",
              "      <td>below25</td>\n",
              "    </tr>\n",
              "    <tr>\n",
              "      <th>3</th>\n",
              "      <td>8</td>\n",
              "      <td>Matthew Hoffman</td>\n",
              "      <td>04/01/15</td>\n",
              "      <td>shot</td>\n",
              "      <td>toy weapon</td>\n",
              "      <td>32.0</td>\n",
              "      <td>M</td>\n",
              "      <td>W</td>\n",
              "      <td>San Francisco</td>\n",
              "      <td>CA</td>\n",
              "      <td>True</td>\n",
              "      <td>attack</td>\n",
              "      <td>Not fleeing</td>\n",
              "      <td>False</td>\n",
              "      <td>above25</td>\n",
              "    </tr>\n",
              "    <tr>\n",
              "      <th>4</th>\n",
              "      <td>9</td>\n",
              "      <td>Michael Rodriguez</td>\n",
              "      <td>04/01/15</td>\n",
              "      <td>shot</td>\n",
              "      <td>nail gun</td>\n",
              "      <td>39.0</td>\n",
              "      <td>M</td>\n",
              "      <td>H</td>\n",
              "      <td>Evans</td>\n",
              "      <td>CO</td>\n",
              "      <td>False</td>\n",
              "      <td>attack</td>\n",
              "      <td>Not fleeing</td>\n",
              "      <td>False</td>\n",
              "      <td>above25</td>\n",
              "    </tr>\n",
              "  </tbody>\n",
              "</table>\n",
              "</div>\n",
              "      <button class=\"colab-df-convert\" onclick=\"convertToInteractive('df-6dcdf3a2-2e6b-4e29-a8a3-d683a37d593a')\"\n",
              "              title=\"Convert this dataframe to an interactive table.\"\n",
              "              style=\"display:none;\">\n",
              "        \n",
              "  <svg xmlns=\"http://www.w3.org/2000/svg\" height=\"24px\"viewBox=\"0 0 24 24\"\n",
              "       width=\"24px\">\n",
              "    <path d=\"M0 0h24v24H0V0z\" fill=\"none\"/>\n",
              "    <path d=\"M18.56 5.44l.94 2.06.94-2.06 2.06-.94-2.06-.94-.94-2.06-.94 2.06-2.06.94zm-11 1L8.5 8.5l.94-2.06 2.06-.94-2.06-.94L8.5 2.5l-.94 2.06-2.06.94zm10 10l.94 2.06.94-2.06 2.06-.94-2.06-.94-.94-2.06-.94 2.06-2.06.94z\"/><path d=\"M17.41 7.96l-1.37-1.37c-.4-.4-.92-.59-1.43-.59-.52 0-1.04.2-1.43.59L10.3 9.45l-7.72 7.72c-.78.78-.78 2.05 0 2.83L4 21.41c.39.39.9.59 1.41.59.51 0 1.02-.2 1.41-.59l7.78-7.78 2.81-2.81c.8-.78.8-2.07 0-2.86zM5.41 20L4 18.59l7.72-7.72 1.47 1.35L5.41 20z\"/>\n",
              "  </svg>\n",
              "      </button>\n",
              "      \n",
              "  <style>\n",
              "    .colab-df-container {\n",
              "      display:flex;\n",
              "      flex-wrap:wrap;\n",
              "      gap: 12px;\n",
              "    }\n",
              "\n",
              "    .colab-df-convert {\n",
              "      background-color: #E8F0FE;\n",
              "      border: none;\n",
              "      border-radius: 50%;\n",
              "      cursor: pointer;\n",
              "      display: none;\n",
              "      fill: #1967D2;\n",
              "      height: 32px;\n",
              "      padding: 0 0 0 0;\n",
              "      width: 32px;\n",
              "    }\n",
              "\n",
              "    .colab-df-convert:hover {\n",
              "      background-color: #E2EBFA;\n",
              "      box-shadow: 0px 1px 2px rgba(60, 64, 67, 0.3), 0px 1px 3px 1px rgba(60, 64, 67, 0.15);\n",
              "      fill: #174EA6;\n",
              "    }\n",
              "\n",
              "    [theme=dark] .colab-df-convert {\n",
              "      background-color: #3B4455;\n",
              "      fill: #D2E3FC;\n",
              "    }\n",
              "\n",
              "    [theme=dark] .colab-df-convert:hover {\n",
              "      background-color: #434B5C;\n",
              "      box-shadow: 0px 1px 3px 1px rgba(0, 0, 0, 0.15);\n",
              "      filter: drop-shadow(0px 1px 2px rgba(0, 0, 0, 0.3));\n",
              "      fill: #FFFFFF;\n",
              "    }\n",
              "  </style>\n",
              "\n",
              "      <script>\n",
              "        const buttonEl =\n",
              "          document.querySelector('#df-6dcdf3a2-2e6b-4e29-a8a3-d683a37d593a button.colab-df-convert');\n",
              "        buttonEl.style.display =\n",
              "          google.colab.kernel.accessAllowed ? 'block' : 'none';\n",
              "\n",
              "        async function convertToInteractive(key) {\n",
              "          const element = document.querySelector('#df-6dcdf3a2-2e6b-4e29-a8a3-d683a37d593a');\n",
              "          const dataTable =\n",
              "            await google.colab.kernel.invokeFunction('convertToInteractive',\n",
              "                                                     [key], {});\n",
              "          if (!dataTable) return;\n",
              "\n",
              "          const docLinkHtml = 'Like what you see? Visit the ' +\n",
              "            '<a target=\"_blank\" href=https://colab.research.google.com/notebooks/data_table.ipynb>data table notebook</a>'\n",
              "            + ' to learn more about interactive tables.';\n",
              "          element.innerHTML = '';\n",
              "          dataTable['output_type'] = 'display_data';\n",
              "          await google.colab.output.renderOutput(dataTable, element);\n",
              "          const docLink = document.createElement('div');\n",
              "          docLink.innerHTML = docLinkHtml;\n",
              "          element.appendChild(docLink);\n",
              "        }\n",
              "      </script>\n",
              "    </div>\n",
              "  </div>\n",
              "  "
            ],
            "text/plain": [
              "   id                name      date  ...         flee body_camera  age_cat\n",
              "0   3          Tim Elliot  02/01/15  ...  Not fleeing       False  above25\n",
              "1   4    Lewis Lee Lembke  02/01/15  ...  Not fleeing       False  above25\n",
              "2   5  John Paul Quintero  03/01/15  ...  Not fleeing       False  below25\n",
              "3   8     Matthew Hoffman  04/01/15  ...  Not fleeing       False  above25\n",
              "4   9   Michael Rodriguez  04/01/15  ...  Not fleeing       False  above25\n",
              "\n",
              "[5 rows x 15 columns]"
            ]
          },
          "metadata": {},
          "execution_count": 6
        }
      ]
    },
    {
      "cell_type": "code",
      "source": [
        "kill['race'].unique()"
      ],
      "metadata": {
        "colab": {
          "base_uri": "https://localhost:8080/"
        },
        "id": "jH3WsdfHXjep",
        "outputId": "e84c2ed7-22eb-42da-e2c7-79f018b1ba20"
      },
      "execution_count": 29,
      "outputs": [
        {
          "output_type": "execute_result",
          "data": {
            "text/plain": [
              "array(['A', 'W', 'H', 'B', 'O', nan, 'N'], dtype=object)"
            ]
          },
          "metadata": {},
          "execution_count": 29
        }
      ]
    },
    {
      "cell_type": "code",
      "source": [
        "kill['race'].value_counts(dropna=False)"
      ],
      "metadata": {
        "colab": {
          "base_uri": "https://localhost:8080/"
        },
        "id": "7jKxWS25aVTS",
        "outputId": "e5a32241-556e-4c91-9d36-b1de1bb0690c"
      },
      "execution_count": 35,
      "outputs": [
        {
          "output_type": "execute_result",
          "data": {
            "text/plain": [
              "W      1201\n",
              "B       618\n",
              "H       423\n",
              "NaN     195\n",
              "A        39\n",
              "N        31\n",
              "O        28\n",
              "Name: race, dtype: int64"
            ]
          },
          "metadata": {},
          "execution_count": 35
        }
      ]
    },
    {
      "cell_type": "markdown",
      "metadata": {
        "id": "VuWSIYCm-l5F"
      },
      "source": [
        "Problem: missing value on race column."
      ]
    },
    {
      "cell_type": "markdown",
      "metadata": {
        "id": "mmCQXFcg-l5G"
      },
      "source": [
        "**INSTRUCTION-1: Drop the all raws that contain missing value (dropna)**"
      ]
    },
    {
      "cell_type": "code",
      "source": [
        "kill.shape"
      ],
      "metadata": {
        "colab": {
          "base_uri": "https://localhost:8080/"
        },
        "id": "GMFqhekdcJtv",
        "outputId": "54fa9a15-7447-4023-b335-366d9fbec1b6"
      },
      "execution_count": 8,
      "outputs": [
        {
          "output_type": "execute_result",
          "data": {
            "text/plain": [
              "(2535, 15)"
            ]
          },
          "metadata": {},
          "execution_count": 8
        }
      ]
    },
    {
      "cell_type": "code",
      "metadata": {
        "id": "CzwSuxgQ-l5G"
      },
      "source": [
        "kill.dropna(axis=0, inplace= True)"
      ],
      "execution_count": 9,
      "outputs": []
    },
    {
      "cell_type": "code",
      "metadata": {
        "colab": {
          "base_uri": "https://localhost:8080/"
        },
        "id": "3DzEkUNo-l5G",
        "outputId": "bc13a32b-7d90-44d3-deb1-e23009cc488b"
      },
      "source": [
        "kill.shape"
      ],
      "execution_count": 10,
      "outputs": [
        {
          "output_type": "execute_result",
          "data": {
            "text/plain": [
              "(2254, 15)"
            ]
          },
          "metadata": {},
          "execution_count": 10
        }
      ]
    },
    {
      "cell_type": "markdown",
      "metadata": {
        "id": "DRb2AH84-l5G"
      },
      "source": [
        "**INSTRUCTION-2: Demonstrate Race Ratio of Killed People by \n",
        "\n",
        "1.   Liste öğesi\n",
        "2.   Liste öğesi\n",
        "\n",
        "a Pie Chart (You can use Matplotlib)**\n",
        "\n",
        "> Girintili blok\n",
        "\n"
      ]
    },
    {
      "cell_type": "code",
      "source": [
        "kill['race'].value_counts(dropna=False)"
      ],
      "metadata": {
        "colab": {
          "base_uri": "https://localhost:8080/"
        },
        "id": "oS3VZZgPepSb",
        "outputId": "21d2c253-009c-46a5-e732-8d56822dfdcd"
      },
      "execution_count": 56,
      "outputs": [
        {
          "output_type": "execute_result",
          "data": {
            "text/plain": [
              "W    1168\n",
              "B     592\n",
              "H     401\n",
              "A      36\n",
              "N      29\n",
              "O      28\n",
              "Name: race, dtype: int64"
            ]
          },
          "metadata": {},
          "execution_count": 56
        }
      ]
    },
    {
      "cell_type": "code",
      "source": [
        "kill['race'].unique()\n"
      ],
      "metadata": {
        "colab": {
          "base_uri": "https://localhost:8080/"
        },
        "id": "Uw7xXB8iezkA",
        "outputId": "aff2aa6d-1fb0-46c9-d0e3-10c3029502c7"
      },
      "execution_count": 89,
      "outputs": [
        {
          "output_type": "execute_result",
          "data": {
            "text/plain": [
              "array(['A', 'W', 'H', 'B', 'O', 'N'], dtype=object)"
            ]
          },
          "metadata": {},
          "execution_count": 89
        }
      ]
    },
    {
      "cell_type": "code",
      "source": [
        "y=kill['race'].value_counts().index\n",
        "y"
      ],
      "metadata": {
        "colab": {
          "base_uri": "https://localhost:8080/"
        },
        "id": "fE-KGlWMwB9q",
        "outputId": "7a640e8a-1aa7-4894-a6be-a323665779b1"
      },
      "execution_count": 11,
      "outputs": [
        {
          "output_type": "execute_result",
          "data": {
            "text/plain": [
              "Index(['W', 'B', 'H', 'A', 'N', 'O'], dtype='object')"
            ]
          },
          "metadata": {},
          "execution_count": 11
        }
      ]
    },
    {
      "cell_type": "code",
      "metadata": {
        "colab": {
          "base_uri": "https://localhost:8080/"
        },
        "id": "z3CnjKfh-l5H",
        "outputId": "eee65324-3ef8-4413-baab-08e437988bef"
      },
      "source": [
        "p=kill['race'].value_counts().values\n",
        "p"
      ],
      "execution_count": 12,
      "outputs": [
        {
          "output_type": "execute_result",
          "data": {
            "text/plain": [
              "array([1168,  592,  401,   36,   29,   28])"
            ]
          },
          "metadata": {},
          "execution_count": 12
        }
      ]
    },
    {
      "cell_type": "code",
      "source": [
        "# matplotlib\n",
        "\n",
        "plt.figure(figsize=(12, 8))\n",
        "values = p\n",
        "labels = y \n",
        "\n",
        "def make_autopct(values):\n",
        "    def my_autopct(pct):\n",
        "        total = sum(values)\n",
        "        val = int(round(pct*total/100.0))\n",
        "        return '{p:.2f}%  ({v:d})'.format(p=pct,v=val)\n",
        "    return my_autopct\n",
        "\n",
        "plt.pie(values, labels=labels, autopct=make_autopct(values), labeldistance=0.7, startangle=70, pctdistance=1.15, explode=explode_list)\n",
        "plt.tight_layout()\n",
        "plt.show()\n",
        "\n",
        "\n"
      ],
      "metadata": {
        "colab": {
          "base_uri": "https://localhost:8080/",
          "height": 585
        },
        "id": "6OOr9waxgH1Q",
        "outputId": "37078fb1-ec0b-43d6-cd98-2203a94205b0"
      },
      "execution_count": 36,
      "outputs": [
        {
          "output_type": "display_data",
          "data": {
            "image/png": "[encoded data removed]",
            "text/plain": [
              "<Figure size 864x576 with 1 Axes>"
            ]
          },
          "metadata": {}
        }
      ]
    },
    {
      "cell_type": "code",
      "metadata": {
        "colab": {
          "base_uri": "https://localhost:8080/",
          "height": 575
        },
        "id": "F1CSkbxa-l5H",
        "outputId": "18bae490-b8d5-49b0-b124-f1c4f75a0129"
      },
      "source": [
        "\n",
        "\n"
      ],
      "execution_count": null,
      "outputs": [
        {
          "output_type": "display_data",
          "data": {
            "image/png": "[encoded data removed]",
            "text/plain": [
              "<Figure size 720x720 with 1 Axes>"
            ]
          },
          "metadata": {
            "tags": []
          }
        }
      ]
    },
    {
      "cell_type": "code",
      "metadata": {
        "id": "tRAjYkN_MqkZ"
      },
      "source": [
        ""
      ],
      "execution_count": null,
      "outputs": []
    }
  ]
}
